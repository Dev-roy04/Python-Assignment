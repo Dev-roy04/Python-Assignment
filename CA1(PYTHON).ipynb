{
 "cells": [
  {
   "cell_type": "code",
   "execution_count": 1,
   "id": "d9c14194",
   "metadata": {},
   "outputs": [
    {
     "name": "stdout",
     "output_type": "stream",
     "text": [
      "Enter first number: 10\n",
      "Enter second number: 20\n",
      "Enter third number:30\n",
      "addition 60.0\n",
      "avg is 20.0\n"
     ]
    }
   ],
   "source": [
    "# 1.\tWrite a program in Python to find the addition & average of three float numbers.\n",
    "\n",
    "num1 = input('Enter first number: ')\n",
    "num2 = input('Enter second number: ')\n",
    "num3 =  input('Enter third number:')\n",
    "\n",
    "add = float(num1) + float(num2)+float(num3)\n",
    "avg= (float(num1) + float(num2)+float(num3))/3\n",
    "print(\"addition\",add)\n",
    "print(\"avg is\",avg)\n",
    "\n"
   ]
  },
  {
   "cell_type": "code",
   "execution_count": 2,
   "id": "cbff81c2",
   "metadata": {},
   "outputs": [
    {
     "name": "stdout",
     "output_type": "stream",
     "text": [
      "Enter the radius: 6\n",
      "The volume is: 904.32\n"
     ]
    }
   ],
   "source": [
    "#2.\tWrite a program in Python to find the volume of a sphere with radius  6cm.\n",
    "r = float(input('Enter the radius: '))\n",
    "pi=3.14\n",
    "volume = ((4/3)*(pi)*(r**3))\n",
    "print(\"The volume is:\", round(volume,2))\n"
   ]
  },
  {
   "cell_type": "code",
   "execution_count": 3,
   "id": "3162a3fd",
   "metadata": {},
   "outputs": [
    {
     "name": "stdout",
     "output_type": "stream",
     "text": [
      "Enter the radius: 5\n",
      "the area of a circle is: 31.4\n"
     ]
    }
   ],
   "source": [
    "#3.\tWrite a program in Python to find the area of a circle.\n",
    "r = float(input('Enter the radius: '))\n",
    "pi=3.14\n",
    "Area=(pi)*(r*2)\n",
    "print(\"the area of a circle is:\",round(Area,2))\n"
   ]
  },
  {
   "cell_type": "code",
   "execution_count": 4,
   "id": "23292419",
   "metadata": {},
   "outputs": [
    {
     "name": "stdout",
     "output_type": "stream",
     "text": [
      "enter the price 10000\n",
      "enter the interest rate 5\n",
      "enter the time 3\n",
      "simple interest is 1500.0\n"
     ]
    }
   ],
   "source": [
    "#4.\tWrite a program in Python to compute simple Interest.\n",
    "\n",
    "p=float(input(\"enter the price \" ))\n",
    "r=float(input(\"enter the interest rate \" ))\n",
    "t=float(input(\"enter the time \" ))\n",
    "si=((p*r*t)/100)\n",
    "print(\"simple interest is\",round(si,2))"
   ]
  },
  {
   "cell_type": "code",
   "execution_count": 5,
   "id": "7b43b24c",
   "metadata": {},
   "outputs": [
    {
     "name": "stdout",
     "output_type": "stream",
     "text": [
      "Enter first number: 10\n",
      "Enter second number: 20\n",
      "after swaping num1: 20 num2: 10\n"
     ]
    }
   ],
   "source": [
    "#5.\tWrite a program in Python to swap two numbers without using third variable\n",
    "num1 = float(input('Enter first number: '))\n",
    "num2 = float(input('Enter second number: '))\n",
    "num1=num1+num2\n",
    "num2=num1-num2\n",
    "num1=num1-num2\n",
    "print('after swaping','num1:',int(num1)   ,   'num2:',int(num2))\n"
   ]
  },
  {
   "cell_type": "code",
   "execution_count": 8,
   "id": "0fb17072",
   "metadata": {},
   "outputs": [
    {
     "name": "stdout",
     "output_type": "stream",
     "text": [
      "10\n",
      "after converting the temp cel to far 50.0\n"
     ]
    }
   ],
   "source": [
    "#6.\tWrite a program in Python to convert any temperature from Celcius to Fahrenheit. \n",
    "cel=float(input())\n",
    "farhenhite=cel*(9/5)+32\n",
    "print(\"after converting the temp cel to far\",farhenhite)\n"
   ]
  },
  {
   "cell_type": "code",
   "execution_count": 15,
   "id": "3167bfbe",
   "metadata": {},
   "outputs": [
    {
     "name": "stdout",
     "output_type": "stream",
     "text": [
      "Enter the Number of Days: 366\n",
      "\n",
      "Year: 1,month: 0, Week: 0, Day: 1\n"
     ]
    }
   ],
   "source": [
    "#7.\tWrite a program in Python to convert a given number of days into days, month, year and week\n",
    "print(end=\"Enter the Number of Days: \")\n",
    "num = int(input())\n",
    "\n",
    "year = int(num/365)\n",
    "month=int((num-year*365)/30)\n",
    "week = int((num%365)/7)\n",
    "days = int((num%365)%7)\n",
    "\n",
    "print(\"\\nYear: \"+str(year)+\",month: \"+str(month)+\", Week: \"+str(week)+\", Day: \"+str(days))\n",
    "\n"
   ]
  },
  {
   "cell_type": "code",
   "execution_count": 2,
   "id": "ee416b2a",
   "metadata": {},
   "outputs": [
    {
     "name": "stdout",
     "output_type": "stream",
     "text": [
      "Enter the first mass: 3\n",
      "Enter the second mass: 3\n",
      "Enter the distance between the centres of the masses: 6\n",
      "the gravitational force is:  1.66825e-11 N\n"
     ]
    }
   ],
   "source": [
    "#8.\tWrite a Python Program to find the gravitational force acting between two objects.\n",
    "#[G=N*(m1*m2)/d^2]\n",
    "m1=float(input(\"Enter the first mass: \"))\n",
    "m2=float(input(\"Enter the second mass: \"))\n",
    "r=float(input(\"Enter the distance between the centres of the masses: \"))\n",
    "G=6.673*(10**-11)\n",
    "f=(G*m1*m2)/(r**2)\n",
    "print(\"the gravitational force is: \",f,\"N\")"
   ]
  },
  {
   "cell_type": "code",
   "execution_count": 3,
   "id": "a85d56d0",
   "metadata": {},
   "outputs": [
    {
     "name": "stdout",
     "output_type": "stream",
     "text": [
      "enter the number:5\n",
      "the number is odd\n"
     ]
    }
   ],
   "source": [
    "#9. Write a program in Python to find given no is Even or Odd.\n",
    "a=int(input(\"enter the number:\"))\n",
    "if a%2==0:\n",
    "    print(\"the number is even \")\n",
    "else:\n",
    "    print(\"the number is odd\")"
   ]
  },
  {
   "cell_type": "code",
   "execution_count": 6,
   "id": "5fa2fa7a",
   "metadata": {},
   "outputs": [
    {
     "name": "stdout",
     "output_type": "stream",
     "text": [
      "enter number: 50\n",
      "70.0\n"
     ]
    }
   ],
   "source": [
    "#10.Take input from user if it is greater than 15 print two times of difference if it’s less than 15 print four times of difference\n",
    "num1=(float(input(\"enter number: \")))\n",
    "if num1>15:\n",
    "    print((num1-15)*2)\n",
    "if num1<15:\n",
    "    print((15-num1)*4)\n",
    "if num1==15:\n",
    "    print(15)"
   ]
  },
  {
   "cell_type": "code",
   "execution_count": 7,
   "id": "18f29fb2",
   "metadata": {},
   "outputs": [
    {
     "name": "stdout",
     "output_type": "stream",
     "text": [
      "enter the first number :20\n",
      "enter the seccond number :10\n",
      "enter the third number :45\n",
      "the largest number is: 45\n"
     ]
    }
   ],
   "source": [
    "#11. Write a program in Python to find largest among three numbers.\n",
    "\n",
    "a=(int(input(\"enter the first number :\")))\n",
    "b=(int(input(\"enter the seccond number :\")))\n",
    "c=(int(input(\"enter the third number :\")))\n",
    "print(\"the largest number is:\",max(a,b,c))"
   ]
  },
  {
   "cell_type": "code",
   "execution_count": 8,
   "id": "8b1be5c1",
   "metadata": {},
   "outputs": [
    {
     "name": "stdout",
     "output_type": "stream",
     "text": [
      "enter the first number :21\n",
      "enter the seccond number :21\n",
      "enter the third number :21\n",
      "Equilateral Triangle\n"
     ]
    }
   ],
   "source": [
    "#12. Write a program in Python to check a triangle is equilateral,scalene or isosclees..\n",
    "\n",
    "x=(int(input(\"enter the first number :\")))\n",
    "y=(int(input(\"enter the seccond number :\")))\n",
    "z=(int(input(\"enter the third number :\")))\n",
    "\n",
    "\n",
    "if x == y == z:\n",
    "        print(\"Equilateral Triangle\")\n",
    " \n",
    "elif x == y or y == z or z == x:\n",
    "        print(\"Isosceles Triangle\")\n",
    "else:\n",
    "        print(\"Scalene Triangle\")"
   ]
  },
  {
   "cell_type": "code",
   "execution_count": 9,
   "id": "18d119b7",
   "metadata": {},
   "outputs": [
    {
     "name": "stdout",
     "output_type": "stream",
     "text": [
      "enter the year:2004\n",
      "2004 is a leap year.\n"
     ]
    }
   ],
   "source": [
    "#13. Write a program in Python to check a given year is leapyear or not.\n",
    "\n",
    "year=int(input(\"enter the year:\"))\n",
    "if year % 4 == 0:\n",
    "    if year % 100 == 0:\n",
    "        if year % 400 == 0:\n",
    "            print(f\"{year} is a leap year.\")\n",
    "        else:\n",
    "            print(f\"{year} is not a leap year.\")\n",
    "    else:\n",
    "        print(f\"{year} is a leap year.\")\n",
    "else:\n",
    "    print(f\"{year} is not a leap year.\")"
   ]
  },
  {
   "cell_type": "code",
   "execution_count": 10,
   "id": "13982ef0",
   "metadata": {},
   "outputs": [
    {
     "name": "stdout",
     "output_type": "stream",
     "text": [
      "Enter marks for subject 1: 90\n",
      "Enter marks for subject 2: 75\n",
      "Enter marks for subject 3: 69\n",
      "Enter marks for subject 4: 81\n",
      "Average marks: 78.75\n",
      "Grade: A\n"
     ]
    }
   ],
   "source": [
    "# 14.Take marks of a student of four different subject find average depending on average find Grade(if marks >=75 i.e,’A’ or >=60 but <=75 i.e,’B’ or >=40 but <=60 i.e,’C’ or <=40 i.e,’D’).\n",
    "\n",
    "marks1 = float(input(\"Enter marks for subject 1: \"))\n",
    "marks2 = float(input(\"Enter marks for subject 2: \"))\n",
    "marks3 = float(input(\"Enter marks for subject 3: \"))\n",
    "marks4 = float(input(\"Enter marks for subject 4: \"))\n",
    "\n",
    "average = (marks1 + marks2 + marks3 + marks4) / 4\n",
    "\n",
    "if average >= 75:\n",
    "    grade = 'A'\n",
    "elif 60 <= average < 75:\n",
    "    grade = 'B'\n",
    "elif 40 <= average < 60:\n",
    "    grade = 'C'\n",
    "else:\n",
    "    grade = 'D'\n",
    "\n",
    "print(f\"Average marks: {average}\")\n",
    "print(f\"Grade: {grade}\")"
   ]
  },
  {
   "cell_type": "code",
   "execution_count": 12,
   "id": "fc70cc20",
   "metadata": {},
   "outputs": [
    {
     "name": "stdout",
     "output_type": "stream",
     "text": [
      "enter the first  number:80\n",
      "enter the second number:999\n",
      "enter the operation:*\n",
      "mul: 79920\n"
     ]
    }
   ],
   "source": [
    "#15. Write a program in Python to implement a simple calculator\n",
    "\n",
    "num1=int(input(\"enter the first  number:\"))\n",
    "num2=int(input(\"enter the second number:\"))\n",
    "c=input(\"enter the operation:\")\n",
    "if c == \"+\":\n",
    "    print(\"add :\",(num1+num2))\n",
    "elif c==\"-\" :\n",
    "    print(\"sub:\",(num1-num2))\n",
    "elif c==\"*\":\n",
    "    print(\"mul:\",(num1*num2))\n",
    "elif c==\"/\":\n",
    "    print(\"div:\",(num1/num2)) "
   ]
  },
  {
   "cell_type": "code",
   "execution_count": 14,
   "id": "9bc70b43",
   "metadata": {},
   "outputs": [
    {
     "name": "stdout",
     "output_type": "stream",
     "text": [
      "Enter a: 2\n",
      "Enter b: 3\n",
      "Enter c: 0\n",
      "Equation:  2 x^2 +  3 x +  0\n",
      "The first root:  0.0\n",
      "The second root:  -6.0\n"
     ]
    }
   ],
   "source": [
    "#16. Write a program in Python to find the roots of Quadratic equation.\n",
    "a=int(input(\"Enter a: \"))\n",
    "b=int(input(\"Enter b: \"))\n",
    "c=int(input(\"Enter c: \"))\n",
    "print(\"Equation: \",a,\"x^2 + \",b,\"x + \",c )\n",
    "d=b**2-4*a*c\n",
    "d1=d**0.5\n",
    "if(d<0):\n",
    "    print(\"The roots are imaginary. \")\n",
    "else:\n",
    "    r1=(-b+d1)/2*a\n",
    "    r2=(-b-d1)/2*a\n",
    "    print(\"The first root: \",round(r1,2))\n",
    "    print(\"The second root: \",round(r2,2))"
   ]
  },
  {
   "cell_type": "code",
   "execution_count": 15,
   "id": "f38a29d8",
   "metadata": {},
   "outputs": [
    {
     "name": "stdout",
     "output_type": "stream",
     "text": [
      "enter the number to print:8\n",
      "1\n",
      "2\n",
      "3\n",
      "4\n",
      "5\n",
      "6\n",
      "7\n",
      "8\n"
     ]
    }
   ],
   "source": [
    "#17. Write a program in Python to print 1 to n.\n",
    "n=int(input(\"enter the number to print:\"))\n",
    "for i in range(1,n+1):\n",
    "    print(i)\n"
   ]
  },
  {
   "cell_type": "code",
   "execution_count": 16,
   "id": "95fabf9e",
   "metadata": {},
   "outputs": [
    {
     "name": "stdout",
     "output_type": "stream",
     "text": [
      "enter the number to print:10\n",
      "55\n"
     ]
    }
   ],
   "source": [
    "#18. Write a program in Python to print sum of natural number.\n",
    "n=int(input(\"enter the number to print:\"))\n",
    "sum=0\n",
    "for i in range(1,n+1):\n",
    "    sum=sum+i\n",
    "print(sum)  \n"
   ]
  },
  {
   "cell_type": "code",
   "execution_count": 17,
   "id": "08ee962f",
   "metadata": {},
   "outputs": [
    {
     "name": "stdout",
     "output_type": "stream",
     "text": [
      "enter the number to print:25\n",
      "7\n"
     ]
    }
   ],
   "source": [
    "#19. Write a program in Python to print Sum of Digit.\n",
    "num=str(input(\"enter the number to print:\"))\n",
    "sum=0\n",
    "for i in num:\n",
    "    sum=sum+int(i)\n",
    "print(sum)    "
   ]
  },
  {
   "cell_type": "code",
   "execution_count": 18,
   "id": "0c29ae7c",
   "metadata": {},
   "outputs": [
    {
     "name": "stdout",
     "output_type": "stream",
     "text": [
      "enter the number to print:6\n",
      "1\n",
      "2\n",
      "3\n",
      "6\n"
     ]
    }
   ],
   "source": [
    "#20. Write a program in Python to print Factors of a Number.\n",
    "x=int(input(\"enter the number to print:\"))\n",
    "for i in range(1, x + 1):\n",
    "       if x % i == 0:\n",
    "           print(i)\n"
   ]
  },
  {
   "cell_type": "code",
   "execution_count": 24,
   "id": "3910f499",
   "metadata": {},
   "outputs": [
    {
     "name": "stdout",
     "output_type": "stream",
     "text": [
      "enter the number to print:14598\n",
      "Reversed Number: 89541\n"
     ]
    }
   ],
   "source": [
    "#21. Write a program in Python to print Reverse of a Number.\n",
    "\n",
    "num =int(input(\"enter the number to print:\"))\n",
    "reversed_num = 0\n",
    "\n",
    "while num != 0:\n",
    "    digit = num % 10\n",
    "    reversed_num = reversed_num * 10 + digit\n",
    "    num //= 10\n",
    "\n",
    "print(\"Reversed Number: \" + str(reversed_num))\n",
    "\n",
    "\n"
   ]
  },
  {
   "cell_type": "code",
   "execution_count": 25,
   "id": "a8b985bd",
   "metadata": {},
   "outputs": [
    {
     "name": "stdout",
     "output_type": "stream",
     "text": [
      "enter the number to print:10\n",
      "3628800\n"
     ]
    }
   ],
   "source": [
    "#22. Write a Python program to find Factorial of a given number.\n",
    "import math\n",
    "num =int(input(\"enter the number to print:\"))\n",
    "print(math.factorial(num))"
   ]
  },
  {
   "cell_type": "code",
   "execution_count": 26,
   "id": "d2abdedd",
   "metadata": {},
   "outputs": [
    {
     "name": "stdout",
     "output_type": "stream",
     "text": [
      "Enter number:2552\n",
      "The number is a palindrome!\n"
     ]
    }
   ],
   "source": [
    "#23. Write a Python program to check a number is palindrome or not.\n",
    "n=int(input(\"Enter number:\"))\n",
    "temp=n\n",
    "rev=0\n",
    "while(n>0):\n",
    "    dig=n%10\n",
    "    rev=rev*10+dig\n",
    "    n=n//10\n",
    "if(temp==rev):\n",
    "    print(\"The number is a palindrome!\")\n",
    "else:\n",
    "    print(\"The number isn't a palindrome!\")"
   ]
  },
  {
   "cell_type": "code",
   "execution_count": 30,
   "id": "b75666e4",
   "metadata": {},
   "outputs": [
    {
     "name": "stdout",
     "output_type": "stream",
     "text": [
      "Enter a number: 6\n",
      "6 is not a prime number\n"
     ]
    }
   ],
   "source": [
    "# 24.\tWrite a Python program to check a number is prime or not.\n",
    "\n",
    "num = int(input(\"Enter a number: \"))\n",
    "count = 0\n",
    "for i in range(1, num + 1):\n",
    "    if num % i == 0:\n",
    "        count += 1\n",
    "if count == 2:\n",
    "    print(f\"{num} is a prime number\")\n",
    "else:\n",
    "    print(f\"{num} is not a prime number\")"
   ]
  },
  {
   "cell_type": "code",
   "execution_count": 31,
   "id": "56246028",
   "metadata": {},
   "outputs": [
    {
     "name": "stdout",
     "output_type": "stream",
     "text": [
      "Enter a number: 253\n",
      "253 is not an Armstrong number\n"
     ]
    }
   ],
   "source": [
    "# 25.Write a Python program to check a number is Armstrong or not\n",
    "num = int(input(\"Enter a number: \"))\n",
    "sum = 0\n",
    "temp = num\n",
    "while temp > 0:\n",
    "   digit = temp % 10\n",
    "   sum += digit ** 3\n",
    "   temp //= 10\n",
    "if num == sum:\n",
    "   print(num,\"is an Armstrong number\")\n",
    "else:\n",
    "   print(num,\"is not an Armstrong number\")"
   ]
  },
  {
   "cell_type": "code",
   "execution_count": 33,
   "id": "3151afe5",
   "metadata": {},
   "outputs": [
    {
     "name": "stdout",
     "output_type": "stream",
     "text": [
      "How many terms: 5\n",
      "Fibonacci sequence:\n",
      "0\n",
      "1\n",
      "1\n",
      "2\n",
      "3\n"
     ]
    }
   ],
   "source": [
    "# 26.\tWrite a Python program to print Fibonacci series of n term\n",
    "\n",
    "nterms = int(input(\"How many terms: \"))\n",
    "n1, n2 = 0, 1\n",
    "count = 0\n",
    "if nterms <= 0:\n",
    "   print(\"Please enter a positive integer\")\n",
    "elif nterms == 1:\n",
    "   print(\"Fibonacci sequence upto\",nterms,\":\")\n",
    "   print(n1)\n",
    "else:\n",
    "   print(\"Fibonacci sequence:\")\n",
    "   while count < nterms:\n",
    "       print(n1)\n",
    "       nth = n1 + n2\n",
    "       n1 = n2\n",
    "       n2 = nth\n",
    "       count += 1"
   ]
  },
  {
   "cell_type": "code",
   "execution_count": 34,
   "id": "b69c3853",
   "metadata": {},
   "outputs": [
    {
     "name": "stdout",
     "output_type": "stream",
     "text": [
      "Enter number:25\n",
      "25*1:25\n",
      "25*2:50\n",
      "25*3:75\n",
      "25*4:100\n",
      "25*5:125\n",
      "25*6:150\n",
      "25*7:175\n",
      "25*8:200\n",
      "25*9:225\n",
      "25*10:250\n"
     ]
    }
   ],
   "source": [
    "#27. Write a Python program to implement multiplication table.\n",
    "n=int(input(\"Enter number:\"))\n",
    "for i in range(1,11):\n",
    "    print(f\"{n}*{i}:{n*i}\")\n"
   ]
  },
  {
   "cell_type": "code",
   "execution_count": 35,
   "id": "27e27be9",
   "metadata": {},
   "outputs": [
    {
     "name": "stdout",
     "output_type": "stream",
     "text": [
      "Enter number of elements : 10\n",
      "12345678910\n",
      "2\n",
      "2\n",
      "5\n",
      "6\n",
      "58\n",
      "8\n",
      "9\n",
      "5\n",
      "5\n",
      "[12345678910, 2, 2, 5, 6, 58, 8, 9, 5, 5]\n"
     ]
    }
   ],
   "source": [
    "#28. Write a Python program to take a input from user in a list and print it.\n",
    "lst = []\n",
    " \n",
    "n = int(input(\"Enter number of elements : \"))\n",
    " \n",
    "\n",
    "for i in range(0, n):\n",
    "    ele = int(input())\n",
    "  \n",
    "    lst.append(ele)  \n",
    " \n",
    "print(lst)\n"
   ]
  },
  {
   "cell_type": "code",
   "execution_count": 36,
   "id": "bb0e4d67",
   "metadata": {},
   "outputs": [
    {
     "name": "stdout",
     "output_type": "stream",
     "text": [
      "10 2.5\n"
     ]
    }
   ],
   "source": [
    "#29. Write a Python program to find the average of n numbers using list.\n",
    "\n",
    "lst=[1,2,3,4]\n",
    "sum=0\n",
    "for i in range(0,len(lst)):\n",
    "    sum=sum+lst[i]\n",
    "avg=sum/len(lst)\n",
    "print(sum,avg)"
   ]
  },
  {
   "cell_type": "code",
   "execution_count": 38,
   "id": "08606deb",
   "metadata": {},
   "outputs": [
    {
     "name": "stdout",
     "output_type": "stream",
     "text": [
      "96\n"
     ]
    }
   ],
   "source": [
    "#30. Write a Python program to find the largest element in the list.\n",
    "L = [5,10,25,15,1,4,96]\n",
    "print(max(L))"
   ]
  },
  {
   "cell_type": "code",
   "execution_count": 39,
   "id": "a9fc8135",
   "metadata": {},
   "outputs": [
    {
     "name": "stdout",
     "output_type": "stream",
     "text": [
      "Enter the number you want to search : 2\n",
      "Number found at index 2\n"
     ]
    }
   ],
   "source": [
    "#31.Write a Python program to perform Linear search.\n",
    "\n",
    "arr=[1,3,2,6,4,8]\n",
    "target = int(input(\"Enter the number you want to search : \"))\n",
    "found = False\n",
    "for i in range(len(arr)):\n",
    "    if arr[i] == target:\n",
    "        print(f\"Number found at index {i}\")\n",
    "        found = True\n",
    "        break\n",
    "\n",
    "if not found:\n",
    "    print(\"Number not found in the list\")\n"
   ]
  },
  {
   "cell_type": "code",
   "execution_count": 41,
   "id": "17322a88",
   "metadata": {},
   "outputs": [
    {
     "name": "stdout",
     "output_type": "stream",
     "text": [
      "Enter a line: hello world\n",
      "Enter a line: practice makes perfect\n",
      "Enter a line: \n",
      "HELLO WORLD\n",
      "PRACTICE MAKES PERFECT\n"
     ]
    }
   ],
   "source": [
    "# 32.\tWrite a program that accepts sequence of lines as input and prints the lines after making all characters in the sentence capitalized.\n",
    "# Suppose the following input is supplied to the program:\n",
    "# Hello world\n",
    "# Practice makes perfect\n",
    "# Then, the output should be:\n",
    "# HELLO WORLD\n",
    "# PRACTICE MAKES PERFECT\n",
    "\n",
    "lines = []\n",
    "while True:\n",
    "    line = input(\"Enter a line: \")\n",
    "    if line:  \n",
    "        lines.append(line.upper())  \n",
    "    else:\n",
    "        break  \n",
    "for line in lines:\n",
    "    print(line)\n",
    "\n"
   ]
  },
  {
   "cell_type": "code",
   "execution_count": 42,
   "id": "5ec8014b",
   "metadata": {},
   "outputs": [
    {
     "name": "stdout",
     "output_type": "stream",
     "text": [
      "Enter comma separated numbers: 34,67,55,33,12,98\n",
      "List: ['34', '67', '55', '33', '12', '98']\n",
      "Tuple: ('34', '67', '55', '33', '12', '98')\n"
     ]
    }
   ],
   "source": [
    "# 33.\tWrite a program which accepts a sequence of comma‐separated numbers from console and generate a list and a tuple which contains every number.\n",
    "# Suppose the following input is supplied to the program:\n",
    "# 34,67,55,33,12,98\n",
    "# Then, the output should be:\n",
    "# ['34', '67', '55', '33', '12', '98']\n",
    "# ('34', '67', '55', '33', '12', '98') \n",
    "\n",
    "numbers = input(\"Enter comma separated numbers: \")\n",
    "number_list = numbers.split(\",\")\n",
    "number_tuple = tuple(number_list)\n",
    "\n",
    "print(\"List:\", number_list)\n",
    "print(\"Tuple:\", number_tuple)\n"
   ]
  },
  {
   "cell_type": "code",
   "execution_count": 48,
   "id": "17800de0",
   "metadata": {},
   "outputs": [
    {
     "name": "stdout",
     "output_type": "stream",
     "text": [
      "Enter transaction: D 300\n",
      "Enter transaction: D 300\n",
      "Enter transaction: W 200\n",
      "Enter transaction: D 100\n",
      "Enter transaction: \n",
      "Net amount: 500\n"
     ]
    }
   ],
   "source": [
    "# 34.\tWrite a program that computes the net amount of a bank account based a transaction log from console input. The transaction log format is shown as following:\n",
    "# D 100\n",
    "# W 200\n",
    "# ¡\n",
    "# D means deposit while W means withdrawal.\n",
    "# Suppose the following input is supplied to the program:\n",
    "# D 300\n",
    "# D 300\n",
    "# W 200\n",
    "# D 100\n",
    "# Then, the output should be:\n",
    "# 500\n",
    "\n",
    "net_amount = 0\n",
    "while True:\n",
    "    transaction = input(\"Enter transaction: \")\n",
    "    if not transaction:\n",
    "        break\n",
    "    trans_type, amount = transaction.split()\n",
    "    amount = int(amount)\n",
    "    if trans_type == 'D':\n",
    "        net_amount += amount\n",
    "    elif trans_type == 'W':\n",
    "        net_amount -= amount\n",
    "print(\"Net amount:\", net_amount)\n"
   ]
  },
  {
   "cell_type": "code",
   "execution_count": null,
   "id": "f8ffc569",
   "metadata": {},
   "outputs": [],
   "source": []
  }
 ],
 "metadata": {
  "kernelspec": {
   "display_name": "Python 3 (ipykernel)",
   "language": "python",
   "name": "python3"
  },
  "language_info": {
   "codemirror_mode": {
    "name": "ipython",
    "version": 3
   },
   "file_extension": ".py",
   "mimetype": "text/x-python",
   "name": "python",
   "nbconvert_exporter": "python",
   "pygments_lexer": "ipython3",
   "version": "3.11.5"
  }
 },
 "nbformat": 4,
 "nbformat_minor": 5
}
